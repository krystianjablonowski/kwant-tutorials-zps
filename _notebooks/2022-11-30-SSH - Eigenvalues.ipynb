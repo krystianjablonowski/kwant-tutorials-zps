{
  "cells": [
    {
      "cell_type": "markdown",
      "id": "03FKNfrnCkzv",
      "metadata": {
        "id": "03FKNfrnCkzv"
      },
      "source": [
        "# SSH Eigenmodes"
      ]
    },
    {
      "cell_type": "markdown",
      "source": [
        "In this toutorial we want to consider quite easy toy model of polymer which cointein two kinds of atoms per unit site called as a SSH model. It is quite transparent model which simultaneously have a topological properties.\n",
        "\n",
        "\n",
        "We start with the Hamiltonian which describe our system,\n",
        "\n",
        "$$H=-\\sum_{ i} v (A_{i}^{\\dagger}B_{i}+h.c.)-\\sum_{j}w(A^{\\dagger}_{i}A_{i+1}+B^{\\dagger}_{i}B_{i+1}+h.c. ),$$\n",
        "here $v$ ($w$) is the overlap integral between the atoms in unit cell (betwens cells) and $A_{i}, B_{i}$ $(A_{i}^\\dagger, B_{i}^\\dagger)$ are a creation (anihilation) operators in $i$-th unit cells rspectivly $A$ and $B$ like site.  \n",
        "\n",
        "Our basic aim is to presented some common know properties of such a model with the use of additional python's package KWANT.\n",
        "Forst of all we need to install it in our program by simple commend,\n"
      ],
      "metadata": {
        "id": "lAqyG01qTv8X"
      },
      "id": "lAqyG01qTv8X"
    },
    {
      "cell_type": "code",
      "execution_count": null,
      "id": "RVbkDWo-t5Ns",
      "metadata": {
        "id": "RVbkDWo-t5Ns",
        "colab": {
          "base_uri": "https://localhost:8080/"
        },
        "outputId": "d9aba4cf-6caa-4623-8fba-cc02f587049d"
      },
      "outputs": [
        {
          "output_type": "stream",
          "name": "stdout",
          "text": [
            "Looking in indexes: https://pypi.org/simple, https://us-python.pkg.dev/colab-wheels/public/simple/\n",
            "Collecting kwant\n",
            "  Downloading kwant-1.4.3.tar.gz (1.6 MB)\n",
            "\u001b[K     |████████████████████████████████| 1.6 MB 6.7 MB/s \n",
            "\u001b[?25hRequirement already satisfied: numpy>=1.11.0 in /usr/local/lib/python3.7/dist-packages (from kwant) (1.21.6)\n",
            "Requirement already satisfied: scipy>=0.17.0 in /usr/local/lib/python3.7/dist-packages (from kwant) (1.7.3)\n",
            "Collecting tinyarray>=1.2\n",
            "  Downloading tinyarray-1.2.4.tar.gz (37 kB)\n",
            "Building wheels for collected packages: kwant, tinyarray\n",
            "  Building wheel for kwant (setup.py) ... \u001b[?25l\u001b[?25hdone\n",
            "  Created wheel for kwant: filename=kwant-1.4.3-cp37-cp37m-linux_x86_64.whl size=3690998 sha256=1d89d59ce3a64b6eebc19173890be5f27aad6d7388ee9d3b743476e2b8502f76\n",
            "  Stored in directory: /root/.cache/pip/wheels/d6/2d/93/6f395cd3f0798d7d9e161dce1c8b8c8bbd04d4547763c926de\n",
            "  Building wheel for tinyarray (setup.py) ... \u001b[?25l\u001b[?25hdone\n",
            "  Created wheel for tinyarray: filename=tinyarray-1.2.4-cp37-cp37m-linux_x86_64.whl size=227977 sha256=cfa13f785634b566499fb24181c1392ad86b4bd10b5e0fb8d011120e66133248\n",
            "  Stored in directory: /root/.cache/pip/wheels/85/c6/1c/6939e2931cfbff5df75758a06084bf67171b640ebdf5febd35\n",
            "Successfully built kwant tinyarray\n",
            "Installing collected packages: tinyarray, kwant\n",
            "Successfully installed kwant-1.4.3 tinyarray-1.2.4\n"
          ]
        }
      ],
      "source": [
        "!pip install kwant"
      ]
    },
    {
      "cell_type": "markdown",
      "source": [
        "Here we incorporate all functions which we are going to use,"
      ],
      "metadata": {
        "id": "f_mpZ8s5TeB3"
      },
      "id": "f_mpZ8s5TeB3"
    },
    {
      "cell_type": "code",
      "execution_count": null,
      "id": "9ab06f68-a6ea-412e-a6e7-e4d07f3c54da",
      "metadata": {
        "id": "9ab06f68-a6ea-412e-a6e7-e4d07f3c54da",
        "outputId": "187f80f0-4b37-413f-ea97-710362a9db04",
        "colab": {
          "base_uri": "https://localhost:8080/"
        }
      },
      "outputs": [
        {
          "output_type": "stream",
          "name": "stderr",
          "text": [
            "/usr/local/lib/python3.7/dist-packages/kwant/solvers/default.py:18: RuntimeWarning: MUMPS is not available, SciPy built-in solver will be used as a fallback. Performance can be very poor in this case.\n",
            "  \"Performance can be very poor in this case.\", RuntimeWarning)\n"
          ]
        }
      ],
      "source": [
        "import kwant\n",
        "import matplotlib.pyplot as plt\n",
        "import scipy.sparse.linalg as sla\n",
        "import scipy as scp\n",
        "import numpy as np\n",
        "import scipy\n",
        "from kwant.physics import dispersion\n",
        "from numpy.linalg import eig"
      ]
    },
    {
      "cell_type": "markdown",
      "source": [
        "First of all we have to define our system. "
      ],
      "metadata": {
        "id": "1uSHUtFLaypb"
      },
      "id": "1uSHUtFLaypb"
    },
    {
      "cell_type": "code",
      "source": [
        "# Building SSH model\n",
        "def ssh_model(v=1, w=1, L=50):\n",
        "    syst = kwant.Builder()\n",
        "    a = 1\n",
        "    lat = kwant.lattice.chain(a)\n",
        "\n",
        "    # Define the scattering region\n",
        "    for n in range(L):\n",
        "        syst[lat(n)] = 0\n",
        "\n",
        "    # Left hopping\n",
        "    for n in range(L):\n",
        "        if n % 2:\n",
        "            syst[lat(n - 1), lat(n)] = v\n",
        "\n",
        "    # Right hopping\n",
        "    for n in range(1, L):\n",
        "        if not n % 2:\n",
        "            syst[lat(n - 1), lat(n)] = w\n",
        "\n",
        "    return syst.finalized() "
      ],
      "metadata": {
        "id": "2RGFdQ_FfzKj"
      },
      "id": "2RGFdQ_FfzKj",
      "execution_count": null,
      "outputs": []
    },
    {
      "cell_type": "markdown",
      "source": [
        "\n",
        "In our case we put onsite equal to zero. In order to defne our system we establish different hoppings for odd and even sites. For even sites the Hamiltonian part discrebes intercells hoppings is\n",
        "$$-\\sum_{ i} v (A_{i}^{\\dagger}B_{i}+h.c.)$$\n",
        "while for odds we have got\n",
        "$$-\\sum_{j}w(A^{\\dagger}_{i}A_{i+1}+B^{\\dagger}_{i}B_{i+1}+h.c. )$$\n",
        "\n",
        "The SSH is the simplest one dimensional model in which one can observed edge states. We can observed this on the folowing plot,\n"
      ],
      "metadata": {
        "id": "ZpDMyAdsf52_"
      },
      "id": "ZpDMyAdsf52_"
    },
    {
      "cell_type": "code",
      "source": [
        "from ipywidgets import *\n",
        "\n",
        "def SSH_energy(v,w):\n",
        "  syst = ssh_model(w=w, v=v, L=L)\n",
        "  hamiltonian = syst.hamiltonian_submatrix(sparse=False)\n",
        "  w1,v1=eig(hamiltonian)\n",
        "  plt.plot(np.arange(0,L,1),sorted(np.real(w1)),'.')\n",
        "  plt.show()\n",
        "\n",
        "interact(SSH_energy,v=(0,1,0.1),w=(0,1,0.1));"
      ],
      "metadata": {
        "colab": {
          "base_uri": "https://localhost:8080/",
          "height": 329,
          "referenced_widgets": [
            "ed195372b87e483eab30baa424d78577",
            "328b5dc5bdf74a3b9cf879381a3389d8",
            "c68c179468ad4f96a39b2c883c2f6aa0",
            "668a85a3a39c4353b52d47fd369f96af",
            "96ff28c4873d475da2ea717aa6cb7913",
            "cef045f8df214d188ebff5f982219585",
            "b396dac64155426f839d2d185ad24eef",
            "83f10bb5d04144e9949ca81ae2dcecab",
            "258a7a7095874c87af43c984b3dfb7cd",
            "93dd8bb2b6a04228be7cc642f21b6eb4"
          ]
        },
        "id": "5CXeOnZVo5Ec",
        "outputId": "c0217b91-1eeb-4bfc-d209-92ed37cefc72"
      },
      "id": "5CXeOnZVo5Ec",
      "execution_count": null,
      "outputs": [
        {
          "output_type": "display_data",
          "data": {
            "text/plain": [
              "interactive(children=(FloatSlider(value=0.0, description='v', max=1.0), FloatSlider(value=0.0, description='w'…"
            ],
            "application/vnd.jupyter.widget-view+json": {
              "version_major": 2,
              "version_minor": 0,
              "model_id": "ed195372b87e483eab30baa424d78577"
            }
          },
          "metadata": {}
        }
      ]
    },
    {
      "cell_type": "markdown",
      "source": [
        "Existing of such a states should have visual consequences in density of states (DOS). Ther should appear additional pick in zero energy. We can easy get DOS by using KWANT. Let us look on the following example. "
      ],
      "metadata": {
        "id": "h31X_hoc2l28"
      },
      "id": "h31X_hoc2l28"
    },
    {
      "cell_type": "code",
      "source": [
        "from mpl_toolkits.axes_grid1.inset_locator import zoomed_inset_axes \n",
        "from mpl_toolkits.axes_grid1.inset_locator import mark_inset\n",
        "\n",
        "def plot_DOS3(v,w):\n",
        "    fig, ax = plt.subplots(figsize=[5, 4])\n",
        "    syst = ssh_model(w=w, v=v, L=500)\n",
        "    hamiltonian = syst.hamiltonian_submatrix(sparse=False)\n",
        "\n",
        "    w1,v1=eig(hamiltonian)\n",
        "    rho = kwant.kpm.SpectralDensity(hamiltonian, rng=0)\n",
        "    w1, densities = rho()\n",
        "    density_subset = np.real(rho(w1))\n",
        "    ax.plot(w1,density_subset)\n",
        "\n",
        "    # generate inset axes\n",
        "    axins = zoomed_inset_axes(ax, 5, loc='upper center')  # zoom = 5\n",
        "\n",
        "    # plot in the inset axes\n",
        "    axins.scatter(w1,density_subset, s=2)\n",
        "\n",
        "    # fix the x, y limit of the inset axes\n",
        "    axins.set_xlim(-max(w1)/10, max(w1)/10)\n",
        "    axins.set_ylim(-5, max(density_subset)/15)\n",
        "\n",
        "    # fix the number of ticks on the inset axes\n",
        "    axins.yaxis.get_major_locator().set_params(nbins=1)\n",
        "    axins.xaxis.get_major_locator().set_params(nbins=1)\n",
        "\n",
        "interact(plot_DOS3,v=(0.0,5,0.1),w=(0.0,5,0.1))"
      ],
      "metadata": {
        "id": "aG0ZsxRb9z8E",
        "outputId": "9e150912-80a7-43d6-8e8c-4f8dcd60449c",
        "colab": {
          "base_uri": "https://localhost:8080/",
          "height": 349,
          "referenced_widgets": [
            "75b91fb7468b45398fdec10e27815012",
            "553ea9d3d1274435b5e841cb7dd2c027",
            "a713b1c34eb14533962711cf358e7eae",
            "6b4c5175555c4f05bfbfecf8da516896",
            "ae4dac95b94c4dd39aec7d25485b5ccc",
            "fd24d63d8cb94b54bf5e4b024f573d62",
            "ba35e359ec6a4fe79fb0857f19e3cd0c",
            "6e64fc529f81496395cb2394f8b8b89d",
            "a644610cf7f94aa29aff6a5b3b74fc6b",
            "b3f4b9bb1dfd4431952c2202b8747bb9"
          ]
        }
      },
      "id": "aG0ZsxRb9z8E",
      "execution_count": null,
      "outputs": [
        {
          "output_type": "display_data",
          "data": {
            "text/plain": [
              "interactive(children=(FloatSlider(value=2.5, description='v', max=5.0), FloatSlider(value=2.5, description='w'…"
            ],
            "application/vnd.jupyter.widget-view+json": {
              "version_major": 2,
              "version_minor": 0,
              "model_id": "75b91fb7468b45398fdec10e27815012"
            }
          },
          "metadata": {}
        },
        {
          "output_type": "execute_result",
          "data": {
            "text/plain": [
              "<function __main__.plot_DOS3(v, w)>"
            ]
          },
          "metadata": {},
          "execution_count": 107
        }
      ]
    },
    {
      "cell_type": "markdown",
      "source": [
        "One can observe that indeed for $w>v$ we have non zero value of DOS around zero energy while $w < v$ we observed platou."
      ],
      "metadata": {
        "id": "vhiXn0v56zaU"
      },
      "id": "vhiXn0v56zaU"
    },
    {
      "cell_type": "markdown",
      "source": [
        "\n",
        "\n",
        "Now we want to plot energy spectrum as a function os hopping parameter $v$ when w is holds constant. We have to identify each energy corespond to a given site. To this end, we used the following procedure. For a given $v$ we find all eigenvalues and eigenstates for every sites. Then we moved to another value of $v$ and do this same. Now to identify which eigenvalues corespond to this same site we chack for every eigenvector from the previous iteration gives us the bigest overlap (the bigest value of scalar product) with one of the state. The prosedure countinous for every value $v$."
      ],
      "metadata": {
        "id": "ful9xz77sEFD"
      },
      "id": "ful9xz77sEFD"
    },
    {
      "cell_type": "code",
      "execution_count": null,
      "id": "48db19ba-65a0-4f61-b465-5d91c29abf51",
      "metadata": {
        "colab": {
          "base_uri": "https://localhost:8080/",
          "height": 329,
          "referenced_widgets": [
            "9281cef378c44e9d977f8932c0655baf",
            "0695fda6988a438bb2a469b8d4da8b5e",
            "cf361735e60c4b6c89c75864fc1eeaaa",
            "35deb594943a4c628b1a231192c9ec9e",
            "13d7e257c43842fdb7bc2614324b598a",
            "f752f489209d4e8e8c757d8c4dec3a72",
            "0863dd4393514820ab655598bf744b08",
            "fb32ed49a713481e9453731f7b000936",
            "86372e802e1b4545b3c1bf42179d5564",
            "77abc7bce50b4e5fb25c78f8b3a87638"
          ]
        },
        "id": "48db19ba-65a0-4f61-b465-5d91c29abf51",
        "outputId": "c688b824-d18d-4b48-ba02-c92c6a79df71"
      },
      "outputs": [
        {
          "output_type": "display_data",
          "data": {
            "text/plain": [
              "interactive(children=(FloatSlider(value=0.30000000000000004, description='w', max=0.5, min=0.1), Checkbox(valu…"
            ],
            "application/vnd.jupyter.widget-view+json": {
              "version_major": 2,
              "version_minor": 0,
              "model_id": "9281cef378c44e9d977f8932c0655baf"
            }
          },
          "metadata": {}
        }
      ],
      "source": [
        "def find_continuator(w: list, next_vectors: list) -> int:\n",
        "    max_product = np.dot(w, next_vectors[0])\n",
        "    max_index = 0\n",
        "\n",
        "    for i in range(len(next_vectors)):\n",
        "        product = np.abs(np.dot(w, next_vectors[i]))\n",
        "        if product > max_product:\n",
        "            max_product = product\n",
        "            max_index = i\n",
        "    return max_index\n",
        "\n",
        "def plot_probability(k_tab: list ,eig_number: int,w,  show_unsorted=False) -> None:\n",
        "    e_val_matrix = np.empty(shape=(len(k_tab), eig_number))\n",
        "    e_vec_matrix = np.empty(shape=(len(k_tab), eig_number, L), dtype=complex)\n",
        "\n",
        "    for i in range(len(k_tab)):\n",
        "        v = k_tab[i]\n",
        "        syst = ssh_model(v, w)\n",
        "        hamiltonian = syst.hamiltonian_submatrix(sparse=False)\n",
        "\n",
        "        e_val, e_vec = scipy.sparse.linalg.eigsh(\n",
        "            hamiltonian, k=eig_number, sigma=0.01, which=\"LM\", return_eigenvectors=True\n",
        "        )\n",
        "\n",
        "        e_val_matrix[i] = e_val\n",
        "        for j in range(eig_number):\n",
        "            e_vec_matrix[i, j] = e_vec[:, j]\n",
        "            e_vec_matrix[i, j] = e_vec_matrix[i, j] / np.sqrt(\n",
        "                np.dot(e_vec_matrix[i, j], e_vec_matrix[i, j])\n",
        "            )\n",
        "\n",
        "    for j in range(eig_number):\n",
        "        strip = [e_val_matrix[0, j]]\n",
        "        vectors = [e_vec_matrix[0, j]]\n",
        "\n",
        "        for i in range(0, len(k_tab) - 1):\n",
        "            index = find_continuator(vectors[i], e_vec_matrix[i + 1])\n",
        "            vectors.append(e_vec_matrix[i + 1, index])\n",
        "            strip.append(e_val_matrix[i + 1, index])\n",
        "\n",
        "        plt.plot(k_tab, strip, label=j)\n",
        "        if show_unsorted:\n",
        "            plt.scatter(k_tab, e_val_matrix[:, j], marker=\".\")\n",
        "            \n",
        "k = np.linspace(0, 0.75, 50)  # Range of k we want to plot\n",
        "energies_number = 47  # Number of energy bands to show\n",
        "\n",
        "interact(plot_probability, k_tab = fixed(k), w=(0.1,0.5,0.1), eig_number=fixed(energies_number));"
      ]
    },
    {
      "cell_type": "markdown",
      "source": [
        "What you can see above is a plot of energy spectrum as a function of parameter $v$. Using by the slider you can change the value of parameter $w$. What is interesting here is that there exist zero energy modes for the parameter values smaller that $w$ which are, as we mentioned earlier, energies of edges states. One can see that zero energy modes are not exacly appear for $w=v$. This is a consequence that we working with the finite system. This incoherence disappear if you put the bigger and bigger size of the system. "
      ],
      "metadata": {
        "id": "tmSDZAVnxMLV"
      },
      "id": "tmSDZAVnxMLV"
    },
    {
      "cell_type": "markdown",
      "source": [
        "We can easly diagonalize our Hamiltonian by taking Fourier transform,\n",
        "$$A^{\\dagger}_{i}=\\frac{1}{\\sqrt{N}}\\sum_{k}e^{ik\\cdot x_{i}} A^{\\dagger}_{k} \\hspace{0.5cm} \\mathrm{etc..}$$\n",
        "In the end Hamiltonian in momentum space takes form\n",
        "$$H=\\sum_{k}(A^{\\dagger}_{k},B^{\\dagger}_{k})\\begin{pmatrix}\n",
        "0 & v+e^{ik}w \\\\\n",
        "v+e^{-ik}w & 0 \n",
        "\\end{pmatrix}\n",
        "\\begin{pmatrix}\n",
        "A_{k}  \\\\\n",
        "B_{k} \n",
        "\\end{pmatrix} $$\n",
        "\n",
        "Now it is easy to find dispersion relation which in this case is given by the following expresion,\n",
        "$$E(k)=\\pm \\sqrt{v^2+w^2+2vw\\cos{k}} .$$\n",
        "\n",
        "Now because we have used Fourier transform we tacitly impose boundary conditions. To procedure further we have to build an infinite system. In order to do this, we need to add leads. "
      ],
      "metadata": {
        "id": "tfxDQ2143wpt"
      },
      "id": "tfxDQ2143wpt"
    },
    {
      "cell_type": "code",
      "source": [
        "def ssh_model_with_leads(v=1.0, w=0.5):\n",
        "    L=200\n",
        "    a=1\n",
        "    # Start with an empty tight-binding system and a single square lattice.\n",
        "    # `a` is the lattice constant (by default set to 1 for simplicity.\n",
        "    syst = kwant.Builder()\n",
        "    \n",
        "    lat = kwant.lattice.Polyatomic([[2*a, 0]], [[0, 0], [a, 0]])\n",
        "    lat.a, lat.b = lat.sublattices\n",
        "    \n",
        "    for n in range(L):\n",
        "        syst[lat.a(n)] = 0\n",
        "        syst[lat.b(n)] = 0\n",
        "    \n",
        "    # Left hopping\n",
        "    for n in range(L):\n",
        "        syst[lat.a(n), lat.b(n)] = v\n",
        "        \n",
        "    # Left hopping\n",
        "    for n in range(1,L):\n",
        "        syst[lat.b(n-1), lat.a(n)] = w\n",
        "\n",
        "    # Add leads\n",
        "    sym_left_lead = kwant.TranslationalSymmetry([-2*a, 0])\n",
        "    left_lead = kwant.Builder(sym_left_lead)\n",
        "    left_lead[lat.a(0)] = 0\n",
        "    left_lead[lat.b(0)] = 0\n",
        "    left_lead[lat.a(0), lat.b(0)] = v\n",
        "    left_lead[lat.b(0), lat.a(-1)] = w\n",
        "    syst.attach_lead(left_lead)\n",
        "    left_lead = left_lead.finalized()\n",
        "\n",
        "    sym_right_lead = kwant.TranslationalSymmetry([2*a, 0])\n",
        "    right_lead = kwant.Builder(sym_right_lead)\n",
        "    right_lead[lat.a(0)] = 0\n",
        "    right_lead[lat.b(0)] = 0\n",
        "    right_lead[lat.a(0), lat.b(0)] = v\n",
        "    right_lead[lat.a(0), lat.a(1)] = w\n",
        "    syst.attach_lead(right_lead)\n",
        "           \n",
        "    syst = syst.finalized()\n",
        "    \n",
        "    return syst, left_lead"
      ],
      "metadata": {
        "id": "ELpfiwvV-LRy"
      },
      "id": "ELpfiwvV-LRy",
      "execution_count": null,
      "outputs": []
    },
    {
      "cell_type": "markdown",
      "source": [
        "The KWANT give us a chance to plot an energy spectrum of such a model."
      ],
      "metadata": {
        "id": "h8QNjTA82WDA"
      },
      "id": "h8QNjTA82WDA"
    },
    {
      "cell_type": "code",
      "source": [
        "def plot_bandstructure(v,w):\n",
        "    momenta = np.linspace(-np.pi, np.pi, 200)\n",
        "    syst, left_lead = ssh_model_with_leads(v=v, w=w)\n",
        "    bands = kwant.physics.Bands(left_lead)\n",
        "    energies = [bands(k) for k in momenta]\n",
        "    \n",
        "    plt.figure()\n",
        "    plt.plot(momenta, energies)\n",
        "    plt.xlabel(\"momentum [(lattice constant)^-1]\")\n",
        "    plt.ylabel(\"energy [t]\")\n",
        "    plt.show()\n",
        "\n",
        "def SSH_spectrum_manipulate_momentum_space(v,w):\n",
        "  plot_probability(k_tab=k,w=w, eig_number=energies_number)\n",
        "\n",
        "interact(plot_bandstructure, v=(0.0,0.5,0.01), w=(0.0,0.5,0.01))"
      ],
      "metadata": {
        "id": "--HKZqXS4756",
        "colab": {
          "base_uri": "https://localhost:8080/",
          "height": 360,
          "referenced_widgets": [
            "119369590e6d4965aa31d5fff06d617a",
            "7375852e559a4da1bf4bdc73d0ecbab3",
            "219396c984a241f2a1a6459fe6548d7b",
            "2cc3013e283749ab9d3ca4f107303704",
            "a4006bfb481a46edbb73db068734fa53",
            "9d2c7258728e4a3d8ecc4167a2fdfcf4",
            "bd6725a50def482ea37d6b7a312584b1",
            "6ce1fa07ce644bfe9136a59d4b08de2c",
            "0bda2547943b4c3a84a37d1c9fa0a273",
            "0945cfd3e7904979980d2f749f6364fa"
          ]
        },
        "outputId": "bd7c1051-c022-4e5e-9c2c-1471e0a8c0bc"
      },
      "id": "--HKZqXS4756",
      "execution_count": null,
      "outputs": [
        {
          "output_type": "display_data",
          "data": {
            "text/plain": [
              "interactive(children=(FloatSlider(value=0.25, description='v', max=0.5, step=0.01), FloatSlider(value=0.25, de…"
            ],
            "application/vnd.jupyter.widget-view+json": {
              "version_major": 2,
              "version_minor": 0,
              "model_id": "119369590e6d4965aa31d5fff06d617a"
            }
          },
          "metadata": {}
        },
        {
          "output_type": "execute_result",
          "data": {
            "text/plain": [
              "<function __main__.plot_bandstructure(v, w)>"
            ]
          },
          "metadata": {},
          "execution_count": 95
        }
      ]
    },
    {
      "cell_type": "code",
      "source": [
        "def plot_DOS(v, w):\n",
        "    momenta = np.linspace(-np.pi, np.pi, 200)\n",
        "    syst, left_lead=ssh_model_with_leads(v=v, w=w)\n",
        "    bands = kwant.physics.Bands(left_lead)\n",
        "    energies = [bands(k) for k in momenta]\n",
        "    \n",
        "    rho = kwant.kpm.SpectralDensity(syst,rng=0)\n",
        "    energies, densities = rho()\n",
        "    energy_subset = np.arange(-np.pi,np.pi,0.01)\n",
        "    density_subset = np.real(rho(energy_subset))\n",
        "    plt.plot(energy_subset,density_subset)\n",
        " \n",
        "interact(plot_DOS,v=(0.0,5,0.1),w=(0.0,5,0.1));\n",
        "plt.show()"
      ],
      "metadata": {
        "colab": {
          "base_uri": "https://localhost:8080/",
          "height": 329,
          "referenced_widgets": [
            "01ffb156c8cd4275b2bb901019103c76",
            "e1081eb806a44872aa94daddd19d72f2",
            "3d4d75b4804a4d05b2371006f4598e5a",
            "b9274892fab141b49622847c9b70db3c",
            "f3e57ef7c4994d5689aa0befe68f21f8",
            "a8bfb65c41f04bb9b5fe3b13ca8368b8",
            "ca94b9e3a75b45488e14cb093e5c4c98",
            "9f3a849149c2490a8a59103fd96c6ea8",
            "7abc068dd2114646a01a5bad146d4bde",
            "48d332a8e1bd4ed6bd97984a6a3819db"
          ]
        },
        "id": "7qRXwiXkAG47",
        "outputId": "94251dad-1689-426f-a9e9-a8b4ab1890c6"
      },
      "id": "7qRXwiXkAG47",
      "execution_count": null,
      "outputs": [
        {
          "output_type": "display_data",
          "data": {
            "text/plain": [
              "interactive(children=(FloatSlider(value=2.5, description='v', max=5.0), FloatSlider(value=2.5, description='w'…"
            ],
            "application/vnd.jupyter.widget-view+json": {
              "version_major": 2,
              "version_minor": 0,
              "model_id": "01ffb156c8cd4275b2bb901019103c76"
            }
          },
          "metadata": {}
        }
      ]
    },
    {
      "cell_type": "markdown",
      "source": [
        "What you can see above it is a energy spectrum of a Hamiltonian after a Fourier transform. "
      ],
      "metadata": {
        "id": "gutY2RVt5i60"
      },
      "id": "gutY2RVt5i60"
    },
    {
      "cell_type": "code",
      "source": [
        "def ssh_model_monoatomic_with_leads(v = 1, w = 1, L = 100, return_only_ham = 0):\n",
        "    \n",
        "    syst = kwant.Builder()\n",
        "    a = 1\n",
        "    lat = kwant.lattice.chain(a)\n",
        "\n",
        "    # Define the scattering region\n",
        "    for n in range(L):\n",
        "        syst[lat(n)] = 0\n",
        "\n",
        "    # Left hopping\n",
        "    for n in range(L):\n",
        "        if n%2:\n",
        "            syst[lat(n-1), lat(n)] = v\n",
        "\n",
        "    # Right hopping\n",
        "    for n in range(1,L):      \n",
        "        if not n%2:\n",
        "            syst[lat(n-1), lat(n)] = w\n",
        "\n",
        "    sym_left_lead = kwant.TranslationalSymmetry([-a])\n",
        "    left_lead = kwant.Builder(sym_left_lead)\n",
        "    left_lead[lat(0)] = 0\n",
        "    left_lead[lat(1), lat(0)] = v\n",
        "    left_lead[lat(2), lat(1)] = w\n",
        "    syst.attach_lead(left_lead)\n",
        "    left_lead_fin = left_lead.finalized()\n",
        "\n",
        "    sym_right_lead = kwant.TranslationalSymmetry([a])\n",
        "    right_lead = kwant.Builder(sym_right_lead)\n",
        "    right_lead[lat(0)] = 0\n",
        "    right_lead[lat(1), lat(0)] = v\n",
        "    right_lead[lat(2), lat(1)] = w\n",
        "    syst.attach_lead(right_lead)\n",
        "    right_lead_fin = right_lead.finalized()\n",
        "    \n",
        "    return syst.finalized()"
      ],
      "metadata": {
        "id": "amM3UNCu-NEf"
      },
      "id": "amM3UNCu-NEf",
      "execution_count": null,
      "outputs": []
    },
    {
      "cell_type": "markdown",
      "source": [
        "Let us look at wave function of our system. Is easy to realise that it is apparently hight in the edge of our chain for topological regime."
      ],
      "metadata": {
        "id": "arvO2gYu5sSV"
      },
      "id": "arvO2gYu5sSV"
    },
    {
      "cell_type": "code",
      "source": [
        "def plot_probability(v,w,energy):\n",
        "    syst = ssh_model_monoatomic_with_leads(v=v, w=w)\n",
        "    wf = kwant.solvers.default.wave_function(syst, energy)\n",
        "    L=100\n",
        "    p_1 = []\n",
        "    p_2 = []\n",
        "    for i in range(len(wf(0)[0])):\n",
        "        p_1.append(abs(wf(0)[0][i])**2)\n",
        "        p_2.append(abs(wf(1)[0][i])**2)\n",
        "    plt.plot(np.linspace(0,L,L), p_1, '-.')\n",
        "    plt.plot(np.linspace(0,L,L), p_2,  '-.')\n",
        "\n",
        "interact(plot_probability,v=(0,0.9,0.01),w=(0,0.9,0.01),energy=(0,1,0.1))"
      ],
      "metadata": {
        "id": "8CLBrXtw7nLi",
        "outputId": "5e2187f3-0d8f-44da-8481-f6cfeab01fbb",
        "colab": {
          "base_uri": "https://localhost:8080/",
          "height": 378,
          "referenced_widgets": [
            "65f775c032a14754b6b587de107c3b7f",
            "9e01614feadf483ead2e6cd863959cf2",
            "66a970d226f34326bd423b42593f5705",
            "bdfed9a30e7b4d809338ecb28e7f66d9",
            "4974753443154f60a13cf0169afc26a0",
            "1286b641b12a4b91bf014e8ba0c1b872",
            "607aa66145ba484db5dccc3d7940239a",
            "dee8f385a75b4c9dbe2a3bc50ca8387f",
            "6d621333038f4416ac179fbb2ba2eb0b",
            "d64fd82b3a6d4512b9546a0d0622d4b4",
            "1a8f185aaec94c449074e159ef98e226",
            "0da26e2bd2734c7a9e2e51600ffb0f45",
            "2e0bc3f1c85b439f96e5862a5a91ccac"
          ]
        }
      },
      "id": "8CLBrXtw7nLi",
      "execution_count": null,
      "outputs": [
        {
          "output_type": "display_data",
          "data": {
            "text/plain": [
              "interactive(children=(FloatSlider(value=0.45, description='v', max=0.9, step=0.01), FloatSlider(value=0.45, de…"
            ],
            "application/vnd.jupyter.widget-view+json": {
              "version_major": 2,
              "version_minor": 0,
              "model_id": "65f775c032a14754b6b587de107c3b7f"
            }
          },
          "metadata": {}
        },
        {
          "output_type": "execute_result",
          "data": {
            "text/plain": [
              "<function __main__.plot_probability(v, w, energy)>"
            ]
          },
          "metadata": {},
          "execution_count": 113
        }
      ]
    },
    {
      "cell_type": "markdown",
      "source": [],
      "metadata": {
        "id": "-Xq8swl5bhSZ"
      },
      "id": "-Xq8swl5bhSZ"
    },
    {
      "cell_type": "markdown",
      "source": [],
      "metadata": {
        "id": "8TfYsnpibBIS"
      },
      "id": "8TfYsnpibBIS"
    }
  ],
  "metadata": {
    "colab": {
      "provenance": []
    },
    "kernelspec": {
      "display_name": "Python 3",
      "language": "python",
      "name": "python3"
    },
    "language_info": {
      "codemirror_mode": {
        "name": "ipython",
        "version": 3
      },
      "file_extension": ".py",
      "mimetype": "text/x-python",
      "name": "python",
      "nbconvert_exporter": "python",
      "pygments_lexer": "ipython3",
      "version": "3.6.13"
    },
    "widgets": {
      "application/vnd.jupyter.widget-state+json": {
        "ed195372b87e483eab30baa424d78577": {
          "model_module": "@jupyter-widgets/controls",
          "model_name": "VBoxModel",
          "model_module_version": "1.5.0",
          "state": {
            "_dom_classes": [
              "widget-interact"
            ],
            "_model_module": "@jupyter-widgets/controls",
            "_model_module_version": "1.5.0",
            "_model_name": "VBoxModel",
            "_view_count": null,
            "_view_module": "@jupyter-widgets/controls",
            "_view_module_version": "1.5.0",
            "_view_name": "VBoxView",
            "box_style": "",
            "children": [
              "IPY_MODEL_328b5dc5bdf74a3b9cf879381a3389d8",
              "IPY_MODEL_c68c179468ad4f96a39b2c883c2f6aa0",
              "IPY_MODEL_668a85a3a39c4353b52d47fd369f96af"
            ],
            "layout": "IPY_MODEL_96ff28c4873d475da2ea717aa6cb7913"
          }
        },
        "328b5dc5bdf74a3b9cf879381a3389d8": {
          "model_module": "@jupyter-widgets/controls",
          "model_name": "FloatSliderModel",
          "model_module_version": "1.5.0",
          "state": {
            "_dom_classes": [],
            "_model_module": "@jupyter-widgets/controls",
            "_model_module_version": "1.5.0",
            "_model_name": "FloatSliderModel",
            "_view_count": null,
            "_view_module": "@jupyter-widgets/controls",
            "_view_module_version": "1.5.0",
            "_view_name": "FloatSliderView",
            "continuous_update": true,
            "description": "v",
            "description_tooltip": null,
            "disabled": false,
            "layout": "IPY_MODEL_cef045f8df214d188ebff5f982219585",
            "max": 1,
            "min": 0,
            "orientation": "horizontal",
            "readout": true,
            "readout_format": ".2f",
            "step": 0.1,
            "style": "IPY_MODEL_b396dac64155426f839d2d185ad24eef",
            "value": 0
          }
        },
        "c68c179468ad4f96a39b2c883c2f6aa0": {
          "model_module": "@jupyter-widgets/controls",
          "model_name": "FloatSliderModel",
          "model_module_version": "1.5.0",
          "state": {
            "_dom_classes": [],
            "_model_module": "@jupyter-widgets/controls",
            "_model_module_version": "1.5.0",
            "_model_name": "FloatSliderModel",
            "_view_count": null,
            "_view_module": "@jupyter-widgets/controls",
            "_view_module_version": "1.5.0",
            "_view_name": "FloatSliderView",
            "continuous_update": true,
            "description": "w",
            "description_tooltip": null,
            "disabled": false,
            "layout": "IPY_MODEL_83f10bb5d04144e9949ca81ae2dcecab",
            "max": 1,
            "min": 0,
            "orientation": "horizontal",
            "readout": true,
            "readout_format": ".2f",
            "step": 0.1,
            "style": "IPY_MODEL_258a7a7095874c87af43c984b3dfb7cd",
            "value": 0
          }
        },
        "668a85a3a39c4353b52d47fd369f96af": {
          "model_module": "@jupyter-widgets/output",
          "model_name": "OutputModel",
          "model_module_version": "1.0.0",
          "state": {
            "_dom_classes": [],
            "_model_module": "@jupyter-widgets/output",
            "_model_module_version": "1.0.0",
            "_model_name": "OutputModel",
            "_view_count": null,
            "_view_module": "@jupyter-widgets/output",
            "_view_module_version": "1.0.0",
            "_view_name": "OutputView",
            "layout": "IPY_MODEL_93dd8bb2b6a04228be7cc642f21b6eb4",
            "msg_id": "",
            "outputs": [
              {
                "output_type": "display_data",
                "data": {
                  "text/plain": "<Figure size 432x288 with 1 Axes>",
                  "image/png": "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\n"
                },
                "metadata": {
                  "needs_background": "light"
                }
              }
            ]
          }
        },
        "96ff28c4873d475da2ea717aa6cb7913": {
          "model_module": "@jupyter-widgets/base",
          "model_name": "LayoutModel",
          "model_module_version": "1.2.0",
          "state": {
            "_model_module": "@jupyter-widgets/base",
            "_model_module_version": "1.2.0",
            "_model_name": "LayoutModel",
            "_view_count": null,
            "_view_module": "@jupyter-widgets/base",
            "_view_module_version": "1.2.0",
            "_view_name": "LayoutView",
            "align_content": null,
            "align_items": null,
            "align_self": null,
            "border": null,
            "bottom": null,
            "display": null,
            "flex": null,
            "flex_flow": null,
            "grid_area": null,
            "grid_auto_columns": null,
            "grid_auto_flow": null,
            "grid_auto_rows": null,
            "grid_column": null,
            "grid_gap": null,
            "grid_row": null,
            "grid_template_areas": null,
            "grid_template_columns": null,
            "grid_template_rows": null,
            "height": null,
            "justify_content": null,
            "justify_items": null,
            "left": null,
            "margin": null,
            "max_height": null,
            "max_width": null,
            "min_height": null,
            "min_width": null,
            "object_fit": null,
            "object_position": null,
            "order": null,
            "overflow": null,
            "overflow_x": null,
            "overflow_y": null,
            "padding": null,
            "right": null,
            "top": null,
            "visibility": null,
            "width": null
          }
        },
        "cef045f8df214d188ebff5f982219585": {
          "model_module": "@jupyter-widgets/base",
          "model_name": "LayoutModel",
          "model_module_version": "1.2.0",
          "state": {
            "_model_module": "@jupyter-widgets/base",
            "_model_module_version": "1.2.0",
            "_model_name": "LayoutModel",
            "_view_count": null,
            "_view_module": "@jupyter-widgets/base",
            "_view_module_version": "1.2.0",
            "_view_name": "LayoutView",
            "align_content": null,
            "align_items": null,
            "align_self": null,
            "border": null,
            "bottom": null,
            "display": null,
            "flex": null,
            "flex_flow": null,
            "grid_area": null,
            "grid_auto_columns": null,
            "grid_auto_flow": null,
            "grid_auto_rows": null,
            "grid_column": null,
            "grid_gap": null,
            "grid_row": null,
            "grid_template_areas": null,
            "grid_template_columns": null,
            "grid_template_rows": null,
            "height": null,
            "justify_content": null,
            "justify_items": null,
            "left": null,
            "margin": null,
            "max_height": null,
            "max_width": null,
            "min_height": null,
            "min_width": null,
            "object_fit": null,
            "object_position": null,
            "order": null,
            "overflow": null,
            "overflow_x": null,
            "overflow_y": null,
            "padding": null,
            "right": null,
            "top": null,
            "visibility": null,
            "width": null
          }
        },
        "b396dac64155426f839d2d185ad24eef": {
          "model_module": "@jupyter-widgets/controls",
          "model_name": "SliderStyleModel",
          "model_module_version": "1.5.0",
          "state": {
            "_model_module": "@jupyter-widgets/controls",
            "_model_module_version": "1.5.0",
            "_model_name": "SliderStyleModel",
            "_view_count": null,
            "_view_module": "@jupyter-widgets/base",
            "_view_module_version": "1.2.0",
            "_view_name": "StyleView",
            "description_width": "",
            "handle_color": null
          }
        },
        "83f10bb5d04144e9949ca81ae2dcecab": {
          "model_module": "@jupyter-widgets/base",
          "model_name": "LayoutModel",
          "model_module_version": "1.2.0",
          "state": {
            "_model_module": "@jupyter-widgets/base",
            "_model_module_version": "1.2.0",
            "_model_name": "LayoutModel",
            "_view_count": null,
            "_view_module": "@jupyter-widgets/base",
            "_view_module_version": "1.2.0",
            "_view_name": "LayoutView",
            "align_content": null,
            "align_items": null,
            "align_self": null,
            "border": null,
            "bottom": null,
            "display": null,
            "flex": null,
            "flex_flow": null,
            "grid_area": null,
            "grid_auto_columns": null,
            "grid_auto_flow": null,
            "grid_auto_rows": null,
            "grid_column": null,
            "grid_gap": null,
            "grid_row": null,
            "grid_template_areas": null,
            "grid_template_columns": null,
            "grid_template_rows": null,
            "height": null,
            "justify_content": null,
            "justify_items": null,
            "left": null,
            "margin": null,
            "max_height": null,
            "max_width": null,
            "min_height": null,
            "min_width": null,
            "object_fit": null,
            "object_position": null,
            "order": null,
            "overflow": null,
            "overflow_x": null,
            "overflow_y": null,
            "padding": null,
            "right": null,
            "top": null,
            "visibility": null,
            "width": null
          }
        },
        "258a7a7095874c87af43c984b3dfb7cd": {
          "model_module": "@jupyter-widgets/controls",
          "model_name": "SliderStyleModel",
          "model_module_version": "1.5.0",
          "state": {
            "_model_module": "@jupyter-widgets/controls",
            "_model_module_version": "1.5.0",
            "_model_name": "SliderStyleModel",
            "_view_count": null,
            "_view_module": "@jupyter-widgets/base",
            "_view_module_version": "1.2.0",
            "_view_name": "StyleView",
            "description_width": "",
            "handle_color": null
          }
        },
        "93dd8bb2b6a04228be7cc642f21b6eb4": {
          "model_module": "@jupyter-widgets/base",
          "model_name": "LayoutModel",
          "model_module_version": "1.2.0",
          "state": {
            "_model_module": "@jupyter-widgets/base",
            "_model_module_version": "1.2.0",
            "_model_name": "LayoutModel",
            "_view_count": null,
            "_view_module": "@jupyter-widgets/base",
            "_view_module_version": "1.2.0",
            "_view_name": "LayoutView",
            "align_content": null,
            "align_items": null,
            "align_self": null,
            "border": null,
            "bottom": null,
            "display": null,
            "flex": null,
            "flex_flow": null,
            "grid_area": null,
            "grid_auto_columns": null,
            "grid_auto_flow": null,
            "grid_auto_rows": null,
            "grid_column": null,
            "grid_gap": null,
            "grid_row": null,
            "grid_template_areas": null,
            "grid_template_columns": null,
            "grid_template_rows": null,
            "height": null,
            "justify_content": null,
            "justify_items": null,
            "left": null,
            "margin": null,
            "max_height": null,
            "max_width": null,
            "min_height": null,
            "min_width": null,
            "object_fit": null,
            "object_position": null,
            "order": null,
            "overflow": null,
            "overflow_x": null,
            "overflow_y": null,
            "padding": null,
            "right": null,
            "top": null,
            "visibility": null,
            "width": null
          }
        },
        "75b91fb7468b45398fdec10e27815012": {
          "model_module": "@jupyter-widgets/controls",
          "model_name": "VBoxModel",
          "model_module_version": "1.5.0",
          "state": {
            "_dom_classes": [
              "widget-interact"
            ],
            "_model_module": "@jupyter-widgets/controls",
            "_model_module_version": "1.5.0",
            "_model_name": "VBoxModel",
            "_view_count": null,
            "_view_module": "@jupyter-widgets/controls",
            "_view_module_version": "1.5.0",
            "_view_name": "VBoxView",
            "box_style": "",
            "children": [
              "IPY_MODEL_553ea9d3d1274435b5e841cb7dd2c027",
              "IPY_MODEL_a713b1c34eb14533962711cf358e7eae",
              "IPY_MODEL_6b4c5175555c4f05bfbfecf8da516896"
            ],
            "layout": "IPY_MODEL_ae4dac95b94c4dd39aec7d25485b5ccc"
          }
        },
        "553ea9d3d1274435b5e841cb7dd2c027": {
          "model_module": "@jupyter-widgets/controls",
          "model_name": "FloatSliderModel",
          "model_module_version": "1.5.0",
          "state": {
            "_dom_classes": [],
            "_model_module": "@jupyter-widgets/controls",
            "_model_module_version": "1.5.0",
            "_model_name": "FloatSliderModel",
            "_view_count": null,
            "_view_module": "@jupyter-widgets/controls",
            "_view_module_version": "1.5.0",
            "_view_name": "FloatSliderView",
            "continuous_update": true,
            "description": "v",
            "description_tooltip": null,
            "disabled": false,
            "layout": "IPY_MODEL_fd24d63d8cb94b54bf5e4b024f573d62",
            "max": 5,
            "min": 0,
            "orientation": "horizontal",
            "readout": true,
            "readout_format": ".2f",
            "step": 0.1,
            "style": "IPY_MODEL_ba35e359ec6a4fe79fb0857f19e3cd0c",
            "value": 2.5
          }
        },
        "a713b1c34eb14533962711cf358e7eae": {
          "model_module": "@jupyter-widgets/controls",
          "model_name": "FloatSliderModel",
          "model_module_version": "1.5.0",
          "state": {
            "_dom_classes": [],
            "_model_module": "@jupyter-widgets/controls",
            "_model_module_version": "1.5.0",
            "_model_name": "FloatSliderModel",
            "_view_count": null,
            "_view_module": "@jupyter-widgets/controls",
            "_view_module_version": "1.5.0",
            "_view_name": "FloatSliderView",
            "continuous_update": true,
            "description": "w",
            "description_tooltip": null,
            "disabled": false,
            "layout": "IPY_MODEL_6e64fc529f81496395cb2394f8b8b89d",
            "max": 5,
            "min": 0,
            "orientation": "horizontal",
            "readout": true,
            "readout_format": ".2f",
            "step": 0.1,
            "style": "IPY_MODEL_a644610cf7f94aa29aff6a5b3b74fc6b",
            "value": 2.5
          }
        },
        "6b4c5175555c4f05bfbfecf8da516896": {
          "model_module": "@jupyter-widgets/output",
          "model_name": "OutputModel",
          "model_module_version": "1.0.0",
          "state": {
            "_dom_classes": [],
            "_model_module": "@jupyter-widgets/output",
            "_model_module_version": "1.0.0",
            "_model_name": "OutputModel",
            "_view_count": null,
            "_view_module": "@jupyter-widgets/output",
            "_view_module_version": "1.0.0",
            "_view_name": "OutputView",
            "layout": "IPY_MODEL_b3f4b9bb1dfd4431952c2202b8747bb9",
            "msg_id": "",
            "outputs": [
              {
                "output_type": "display_data",
                "data": {
                  "text/plain": "<Figure size 360x288 with 2 Axes>",
                  "image/png": "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\n"
                },
                "metadata": {
                  "needs_background": "light"
                }
              }
            ]
          }
        },
        "ae4dac95b94c4dd39aec7d25485b5ccc": {
          "model_module": "@jupyter-widgets/base",
          "model_name": "LayoutModel",
          "model_module_version": "1.2.0",
          "state": {
            "_model_module": "@jupyter-widgets/base",
            "_model_module_version": "1.2.0",
            "_model_name": "LayoutModel",
            "_view_count": null,
            "_view_module": "@jupyter-widgets/base",
            "_view_module_version": "1.2.0",
            "_view_name": "LayoutView",
            "align_content": null,
            "align_items": null,
            "align_self": null,
            "border": null,
            "bottom": null,
            "display": null,
            "flex": null,
            "flex_flow": null,
            "grid_area": null,
            "grid_auto_columns": null,
            "grid_auto_flow": null,
            "grid_auto_rows": null,
            "grid_column": null,
            "grid_gap": null,
            "grid_row": null,
            "grid_template_areas": null,
            "grid_template_columns": null,
            "grid_template_rows": null,
            "height": null,
            "justify_content": null,
            "justify_items": null,
            "left": null,
            "margin": null,
            "max_height": null,
            "max_width": null,
            "min_height": null,
            "min_width": null,
            "object_fit": null,
            "object_position": null,
            "order": null,
            "overflow": null,
            "overflow_x": null,
            "overflow_y": null,
            "padding": null,
            "right": null,
            "top": null,
            "visibility": null,
            "width": null
          }
        },
        "fd24d63d8cb94b54bf5e4b024f573d62": {
          "model_module": "@jupyter-widgets/base",
          "model_name": "LayoutModel",
          "model_module_version": "1.2.0",
          "state": {
            "_model_module": "@jupyter-widgets/base",
            "_model_module_version": "1.2.0",
            "_model_name": "LayoutModel",
            "_view_count": null,
            "_view_module": "@jupyter-widgets/base",
            "_view_module_version": "1.2.0",
            "_view_name": "LayoutView",
            "align_content": null,
            "align_items": null,
            "align_self": null,
            "border": null,
            "bottom": null,
            "display": null,
            "flex": null,
            "flex_flow": null,
            "grid_area": null,
            "grid_auto_columns": null,
            "grid_auto_flow": null,
            "grid_auto_rows": null,
            "grid_column": null,
            "grid_gap": null,
            "grid_row": null,
            "grid_template_areas": null,
            "grid_template_columns": null,
            "grid_template_rows": null,
            "height": null,
            "justify_content": null,
            "justify_items": null,
            "left": null,
            "margin": null,
            "max_height": null,
            "max_width": null,
            "min_height": null,
            "min_width": null,
            "object_fit": null,
            "object_position": null,
            "order": null,
            "overflow": null,
            "overflow_x": null,
            "overflow_y": null,
            "padding": null,
            "right": null,
            "top": null,
            "visibility": null,
            "width": null
          }
        },
        "ba35e359ec6a4fe79fb0857f19e3cd0c": {
          "model_module": "@jupyter-widgets/controls",
          "model_name": "SliderStyleModel",
          "model_module_version": "1.5.0",
          "state": {
            "_model_module": "@jupyter-widgets/controls",
            "_model_module_version": "1.5.0",
            "_model_name": "SliderStyleModel",
            "_view_count": null,
            "_view_module": "@jupyter-widgets/base",
            "_view_module_version": "1.2.0",
            "_view_name": "StyleView",
            "description_width": "",
            "handle_color": null
          }
        },
        "6e64fc529f81496395cb2394f8b8b89d": {
          "model_module": "@jupyter-widgets/base",
          "model_name": "LayoutModel",
          "model_module_version": "1.2.0",
          "state": {
            "_model_module": "@jupyter-widgets/base",
            "_model_module_version": "1.2.0",
            "_model_name": "LayoutModel",
            "_view_count": null,
            "_view_module": "@jupyter-widgets/base",
            "_view_module_version": "1.2.0",
            "_view_name": "LayoutView",
            "align_content": null,
            "align_items": null,
            "align_self": null,
            "border": null,
            "bottom": null,
            "display": null,
            "flex": null,
            "flex_flow": null,
            "grid_area": null,
            "grid_auto_columns": null,
            "grid_auto_flow": null,
            "grid_auto_rows": null,
            "grid_column": null,
            "grid_gap": null,
            "grid_row": null,
            "grid_template_areas": null,
            "grid_template_columns": null,
            "grid_template_rows": null,
            "height": null,
            "justify_content": null,
            "justify_items": null,
            "left": null,
            "margin": null,
            "max_height": null,
            "max_width": null,
            "min_height": null,
            "min_width": null,
            "object_fit": null,
            "object_position": null,
            "order": null,
            "overflow": null,
            "overflow_x": null,
            "overflow_y": null,
            "padding": null,
            "right": null,
            "top": null,
            "visibility": null,
            "width": null
          }
        },
        "a644610cf7f94aa29aff6a5b3b74fc6b": {
          "model_module": "@jupyter-widgets/controls",
          "model_name": "SliderStyleModel",
          "model_module_version": "1.5.0",
          "state": {
            "_model_module": "@jupyter-widgets/controls",
            "_model_module_version": "1.5.0",
            "_model_name": "SliderStyleModel",
            "_view_count": null,
            "_view_module": "@jupyter-widgets/base",
            "_view_module_version": "1.2.0",
            "_view_name": "StyleView",
            "description_width": "",
            "handle_color": null
          }
        },
        "b3f4b9bb1dfd4431952c2202b8747bb9": {
          "model_module": "@jupyter-widgets/base",
          "model_name": "LayoutModel",
          "model_module_version": "1.2.0",
          "state": {
            "_model_module": "@jupyter-widgets/base",
            "_model_module_version": "1.2.0",
            "_model_name": "LayoutModel",
            "_view_count": null,
            "_view_module": "@jupyter-widgets/base",
            "_view_module_version": "1.2.0",
            "_view_name": "LayoutView",
            "align_content": null,
            "align_items": null,
            "align_self": null,
            "border": null,
            "bottom": null,
            "display": null,
            "flex": null,
            "flex_flow": null,
            "grid_area": null,
            "grid_auto_columns": null,
            "grid_auto_flow": null,
            "grid_auto_rows": null,
            "grid_column": null,
            "grid_gap": null,
            "grid_row": null,
            "grid_template_areas": null,
            "grid_template_columns": null,
            "grid_template_rows": null,
            "height": null,
            "justify_content": null,
            "justify_items": null,
            "left": null,
            "margin": null,
            "max_height": null,
            "max_width": null,
            "min_height": null,
            "min_width": null,
            "object_fit": null,
            "object_position": null,
            "order": null,
            "overflow": null,
            "overflow_x": null,
            "overflow_y": null,
            "padding": null,
            "right": null,
            "top": null,
            "visibility": null,
            "width": null
          }
        },
        "9281cef378c44e9d977f8932c0655baf": {
          "model_module": "@jupyter-widgets/controls",
          "model_name": "VBoxModel",
          "model_module_version": "1.5.0",
          "state": {
            "_dom_classes": [
              "widget-interact"
            ],
            "_model_module": "@jupyter-widgets/controls",
            "_model_module_version": "1.5.0",
            "_model_name": "VBoxModel",
            "_view_count": null,
            "_view_module": "@jupyter-widgets/controls",
            "_view_module_version": "1.5.0",
            "_view_name": "VBoxView",
            "box_style": "",
            "children": [
              "IPY_MODEL_0695fda6988a438bb2a469b8d4da8b5e",
              "IPY_MODEL_cf361735e60c4b6c89c75864fc1eeaaa",
              "IPY_MODEL_35deb594943a4c628b1a231192c9ec9e"
            ],
            "layout": "IPY_MODEL_13d7e257c43842fdb7bc2614324b598a"
          }
        },
        "0695fda6988a438bb2a469b8d4da8b5e": {
          "model_module": "@jupyter-widgets/controls",
          "model_name": "FloatSliderModel",
          "model_module_version": "1.5.0",
          "state": {
            "_dom_classes": [],
            "_model_module": "@jupyter-widgets/controls",
            "_model_module_version": "1.5.0",
            "_model_name": "FloatSliderModel",
            "_view_count": null,
            "_view_module": "@jupyter-widgets/controls",
            "_view_module_version": "1.5.0",
            "_view_name": "FloatSliderView",
            "continuous_update": true,
            "description": "w",
            "description_tooltip": null,
            "disabled": false,
            "layout": "IPY_MODEL_f752f489209d4e8e8c757d8c4dec3a72",
            "max": 0.5,
            "min": 0.1,
            "orientation": "horizontal",
            "readout": true,
            "readout_format": ".2f",
            "step": 0.1,
            "style": "IPY_MODEL_0863dd4393514820ab655598bf744b08",
            "value": 0.30000000000000004
          }
        },
        "cf361735e60c4b6c89c75864fc1eeaaa": {
          "model_module": "@jupyter-widgets/controls",
          "model_name": "CheckboxModel",
          "model_module_version": "1.5.0",
          "state": {
            "_dom_classes": [],
            "_model_module": "@jupyter-widgets/controls",
            "_model_module_version": "1.5.0",
            "_model_name": "CheckboxModel",
            "_view_count": null,
            "_view_module": "@jupyter-widgets/controls",
            "_view_module_version": "1.5.0",
            "_view_name": "CheckboxView",
            "description": "show_unsorted",
            "description_tooltip": null,
            "disabled": false,
            "indent": true,
            "layout": "IPY_MODEL_fb32ed49a713481e9453731f7b000936",
            "style": "IPY_MODEL_86372e802e1b4545b3c1bf42179d5564",
            "value": false
          }
        },
        "35deb594943a4c628b1a231192c9ec9e": {
          "model_module": "@jupyter-widgets/output",
          "model_name": "OutputModel",
          "model_module_version": "1.0.0",
          "state": {
            "_dom_classes": [],
            "_model_module": "@jupyter-widgets/output",
            "_model_module_version": "1.0.0",
            "_model_name": "OutputModel",
            "_view_count": null,
            "_view_module": "@jupyter-widgets/output",
            "_view_module_version": "1.0.0",
            "_view_name": "OutputView",
            "layout": "IPY_MODEL_77abc7bce50b4e5fb25c78f8b3a87638",
            "msg_id": "",
            "outputs": [
              {
                "output_type": "display_data",
                "data": {
                  "text/plain": "<Figure size 432x288 with 1 Axes>",
                  "image/png": "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\n"
                },
                "metadata": {
                  "needs_background": "light"
                }
              }
            ]
          }
        },
        "13d7e257c43842fdb7bc2614324b598a": {
          "model_module": "@jupyter-widgets/base",
          "model_name": "LayoutModel",
          "model_module_version": "1.2.0",
          "state": {
            "_model_module": "@jupyter-widgets/base",
            "_model_module_version": "1.2.0",
            "_model_name": "LayoutModel",
            "_view_count": null,
            "_view_module": "@jupyter-widgets/base",
            "_view_module_version": "1.2.0",
            "_view_name": "LayoutView",
            "align_content": null,
            "align_items": null,
            "align_self": null,
            "border": null,
            "bottom": null,
            "display": null,
            "flex": null,
            "flex_flow": null,
            "grid_area": null,
            "grid_auto_columns": null,
            "grid_auto_flow": null,
            "grid_auto_rows": null,
            "grid_column": null,
            "grid_gap": null,
            "grid_row": null,
            "grid_template_areas": null,
            "grid_template_columns": null,
            "grid_template_rows": null,
            "height": null,
            "justify_content": null,
            "justify_items": null,
            "left": null,
            "margin": null,
            "max_height": null,
            "max_width": null,
            "min_height": null,
            "min_width": null,
            "object_fit": null,
            "object_position": null,
            "order": null,
            "overflow": null,
            "overflow_x": null,
            "overflow_y": null,
            "padding": null,
            "right": null,
            "top": null,
            "visibility": null,
            "width": null
          }
        },
        "f752f489209d4e8e8c757d8c4dec3a72": {
          "model_module": "@jupyter-widgets/base",
          "model_name": "LayoutModel",
          "model_module_version": "1.2.0",
          "state": {
            "_model_module": "@jupyter-widgets/base",
            "_model_module_version": "1.2.0",
            "_model_name": "LayoutModel",
            "_view_count": null,
            "_view_module": "@jupyter-widgets/base",
            "_view_module_version": "1.2.0",
            "_view_name": "LayoutView",
            "align_content": null,
            "align_items": null,
            "align_self": null,
            "border": null,
            "bottom": null,
            "display": null,
            "flex": null,
            "flex_flow": null,
            "grid_area": null,
            "grid_auto_columns": null,
            "grid_auto_flow": null,
            "grid_auto_rows": null,
            "grid_column": null,
            "grid_gap": null,
            "grid_row": null,
            "grid_template_areas": null,
            "grid_template_columns": null,
            "grid_template_rows": null,
            "height": null,
            "justify_content": null,
            "justify_items": null,
            "left": null,
            "margin": null,
            "max_height": null,
            "max_width": null,
            "min_height": null,
            "min_width": null,
            "object_fit": null,
            "object_position": null,
            "order": null,
            "overflow": null,
            "overflow_x": null,
            "overflow_y": null,
            "padding": null,
            "right": null,
            "top": null,
            "visibility": null,
            "width": null
          }
        },
        "0863dd4393514820ab655598bf744b08": {
          "model_module": "@jupyter-widgets/controls",
          "model_name": "SliderStyleModel",
          "model_module_version": "1.5.0",
          "state": {
            "_model_module": "@jupyter-widgets/controls",
            "_model_module_version": "1.5.0",
            "_model_name": "SliderStyleModel",
            "_view_count": null,
            "_view_module": "@jupyter-widgets/base",
            "_view_module_version": "1.2.0",
            "_view_name": "StyleView",
            "description_width": "",
            "handle_color": null
          }
        },
        "fb32ed49a713481e9453731f7b000936": {
          "model_module": "@jupyter-widgets/base",
          "model_name": "LayoutModel",
          "model_module_version": "1.2.0",
          "state": {
            "_model_module": "@jupyter-widgets/base",
            "_model_module_version": "1.2.0",
            "_model_name": "LayoutModel",
            "_view_count": null,
            "_view_module": "@jupyter-widgets/base",
            "_view_module_version": "1.2.0",
            "_view_name": "LayoutView",
            "align_content": null,
            "align_items": null,
            "align_self": null,
            "border": null,
            "bottom": null,
            "display": null,
            "flex": null,
            "flex_flow": null,
            "grid_area": null,
            "grid_auto_columns": null,
            "grid_auto_flow": null,
            "grid_auto_rows": null,
            "grid_column": null,
            "grid_gap": null,
            "grid_row": null,
            "grid_template_areas": null,
            "grid_template_columns": null,
            "grid_template_rows": null,
            "height": null,
            "justify_content": null,
            "justify_items": null,
            "left": null,
            "margin": null,
            "max_height": null,
            "max_width": null,
            "min_height": null,
            "min_width": null,
            "object_fit": null,
            "object_position": null,
            "order": null,
            "overflow": null,
            "overflow_x": null,
            "overflow_y": null,
            "padding": null,
            "right": null,
            "top": null,
            "visibility": null,
            "width": null
          }
        },
        "86372e802e1b4545b3c1bf42179d5564": {
          "model_module": "@jupyter-widgets/controls",
          "model_name": "DescriptionStyleModel",
          "model_module_version": "1.5.0",
          "state": {
            "_model_module": "@jupyter-widgets/controls",
            "_model_module_version": "1.5.0",
            "_model_name": "DescriptionStyleModel",
            "_view_count": null,
            "_view_module": "@jupyter-widgets/base",
            "_view_module_version": "1.2.0",
            "_view_name": "StyleView",
            "description_width": ""
          }
        },
        "77abc7bce50b4e5fb25c78f8b3a87638": {
          "model_module": "@jupyter-widgets/base",
          "model_name": "LayoutModel",
          "model_module_version": "1.2.0",
          "state": {
            "_model_module": "@jupyter-widgets/base",
            "_model_module_version": "1.2.0",
            "_model_name": "LayoutModel",
            "_view_count": null,
            "_view_module": "@jupyter-widgets/base",
            "_view_module_version": "1.2.0",
            "_view_name": "LayoutView",
            "align_content": null,
            "align_items": null,
            "align_self": null,
            "border": null,
            "bottom": null,
            "display": null,
            "flex": null,
            "flex_flow": null,
            "grid_area": null,
            "grid_auto_columns": null,
            "grid_auto_flow": null,
            "grid_auto_rows": null,
            "grid_column": null,
            "grid_gap": null,
            "grid_row": null,
            "grid_template_areas": null,
            "grid_template_columns": null,
            "grid_template_rows": null,
            "height": null,
            "justify_content": null,
            "justify_items": null,
            "left": null,
            "margin": null,
            "max_height": null,
            "max_width": null,
            "min_height": null,
            "min_width": null,
            "object_fit": null,
            "object_position": null,
            "order": null,
            "overflow": null,
            "overflow_x": null,
            "overflow_y": null,
            "padding": null,
            "right": null,
            "top": null,
            "visibility": null,
            "width": null
          }
        },
        "119369590e6d4965aa31d5fff06d617a": {
          "model_module": "@jupyter-widgets/controls",
          "model_name": "VBoxModel",
          "model_module_version": "1.5.0",
          "state": {
            "_dom_classes": [
              "widget-interact"
            ],
            "_model_module": "@jupyter-widgets/controls",
            "_model_module_version": "1.5.0",
            "_model_name": "VBoxModel",
            "_view_count": null,
            "_view_module": "@jupyter-widgets/controls",
            "_view_module_version": "1.5.0",
            "_view_name": "VBoxView",
            "box_style": "",
            "children": [
              "IPY_MODEL_7375852e559a4da1bf4bdc73d0ecbab3",
              "IPY_MODEL_219396c984a241f2a1a6459fe6548d7b",
              "IPY_MODEL_2cc3013e283749ab9d3ca4f107303704"
            ],
            "layout": "IPY_MODEL_a4006bfb481a46edbb73db068734fa53"
          }
        },
        "7375852e559a4da1bf4bdc73d0ecbab3": {
          "model_module": "@jupyter-widgets/controls",
          "model_name": "FloatSliderModel",
          "model_module_version": "1.5.0",
          "state": {
            "_dom_classes": [],
            "_model_module": "@jupyter-widgets/controls",
            "_model_module_version": "1.5.0",
            "_model_name": "FloatSliderModel",
            "_view_count": null,
            "_view_module": "@jupyter-widgets/controls",
            "_view_module_version": "1.5.0",
            "_view_name": "FloatSliderView",
            "continuous_update": true,
            "description": "v",
            "description_tooltip": null,
            "disabled": false,
            "layout": "IPY_MODEL_9d2c7258728e4a3d8ecc4167a2fdfcf4",
            "max": 0.5,
            "min": 0,
            "orientation": "horizontal",
            "readout": true,
            "readout_format": ".2f",
            "step": 0.01,
            "style": "IPY_MODEL_bd6725a50def482ea37d6b7a312584b1",
            "value": 0.13
          }
        },
        "219396c984a241f2a1a6459fe6548d7b": {
          "model_module": "@jupyter-widgets/controls",
          "model_name": "FloatSliderModel",
          "model_module_version": "1.5.0",
          "state": {
            "_dom_classes": [],
            "_model_module": "@jupyter-widgets/controls",
            "_model_module_version": "1.5.0",
            "_model_name": "FloatSliderModel",
            "_view_count": null,
            "_view_module": "@jupyter-widgets/controls",
            "_view_module_version": "1.5.0",
            "_view_name": "FloatSliderView",
            "continuous_update": true,
            "description": "w",
            "description_tooltip": null,
            "disabled": false,
            "layout": "IPY_MODEL_6ce1fa07ce644bfe9136a59d4b08de2c",
            "max": 0.5,
            "min": 0,
            "orientation": "horizontal",
            "readout": true,
            "readout_format": ".2f",
            "step": 0.01,
            "style": "IPY_MODEL_0bda2547943b4c3a84a37d1c9fa0a273",
            "value": 0.37
          }
        },
        "2cc3013e283749ab9d3ca4f107303704": {
          "model_module": "@jupyter-widgets/output",
          "model_name": "OutputModel",
          "model_module_version": "1.0.0",
          "state": {
            "_dom_classes": [],
            "_model_module": "@jupyter-widgets/output",
            "_model_module_version": "1.0.0",
            "_model_name": "OutputModel",
            "_view_count": null,
            "_view_module": "@jupyter-widgets/output",
            "_view_module_version": "1.0.0",
            "_view_name": "OutputView",
            "layout": "IPY_MODEL_0945cfd3e7904979980d2f749f6364fa",
            "msg_id": "",
            "outputs": [
              {
                "output_type": "display_data",
                "data": {
                  "text/plain": "<Figure size 432x288 with 1 Axes>",
                  "image/png": "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\n"
                },
                "metadata": {
                  "needs_background": "light"
                }
              }
            ]
          }
        },
        "a4006bfb481a46edbb73db068734fa53": {
          "model_module": "@jupyter-widgets/base",
          "model_name": "LayoutModel",
          "model_module_version": "1.2.0",
          "state": {
            "_model_module": "@jupyter-widgets/base",
            "_model_module_version": "1.2.0",
            "_model_name": "LayoutModel",
            "_view_count": null,
            "_view_module": "@jupyter-widgets/base",
            "_view_module_version": "1.2.0",
            "_view_name": "LayoutView",
            "align_content": null,
            "align_items": null,
            "align_self": null,
            "border": null,
            "bottom": null,
            "display": null,
            "flex": null,
            "flex_flow": null,
            "grid_area": null,
            "grid_auto_columns": null,
            "grid_auto_flow": null,
            "grid_auto_rows": null,
            "grid_column": null,
            "grid_gap": null,
            "grid_row": null,
            "grid_template_areas": null,
            "grid_template_columns": null,
            "grid_template_rows": null,
            "height": null,
            "justify_content": null,
            "justify_items": null,
            "left": null,
            "margin": null,
            "max_height": null,
            "max_width": null,
            "min_height": null,
            "min_width": null,
            "object_fit": null,
            "object_position": null,
            "order": null,
            "overflow": null,
            "overflow_x": null,
            "overflow_y": null,
            "padding": null,
            "right": null,
            "top": null,
            "visibility": null,
            "width": null
          }
        },
        "9d2c7258728e4a3d8ecc4167a2fdfcf4": {
          "model_module": "@jupyter-widgets/base",
          "model_name": "LayoutModel",
          "model_module_version": "1.2.0",
          "state": {
            "_model_module": "@jupyter-widgets/base",
            "_model_module_version": "1.2.0",
            "_model_name": "LayoutModel",
            "_view_count": null,
            "_view_module": "@jupyter-widgets/base",
            "_view_module_version": "1.2.0",
            "_view_name": "LayoutView",
            "align_content": null,
            "align_items": null,
            "align_self": null,
            "border": null,
            "bottom": null,
            "display": null,
            "flex": null,
            "flex_flow": null,
            "grid_area": null,
            "grid_auto_columns": null,
            "grid_auto_flow": null,
            "grid_auto_rows": null,
            "grid_column": null,
            "grid_gap": null,
            "grid_row": null,
            "grid_template_areas": null,
            "grid_template_columns": null,
            "grid_template_rows": null,
            "height": null,
            "justify_content": null,
            "justify_items": null,
            "left": null,
            "margin": null,
            "max_height": null,
            "max_width": null,
            "min_height": null,
            "min_width": null,
            "object_fit": null,
            "object_position": null,
            "order": null,
            "overflow": null,
            "overflow_x": null,
            "overflow_y": null,
            "padding": null,
            "right": null,
            "top": null,
            "visibility": null,
            "width": null
          }
        },
        "bd6725a50def482ea37d6b7a312584b1": {
          "model_module": "@jupyter-widgets/controls",
          "model_name": "SliderStyleModel",
          "model_module_version": "1.5.0",
          "state": {
            "_model_module": "@jupyter-widgets/controls",
            "_model_module_version": "1.5.0",
            "_model_name": "SliderStyleModel",
            "_view_count": null,
            "_view_module": "@jupyter-widgets/base",
            "_view_module_version": "1.2.0",
            "_view_name": "StyleView",
            "description_width": "",
            "handle_color": null
          }
        },
        "6ce1fa07ce644bfe9136a59d4b08de2c": {
          "model_module": "@jupyter-widgets/base",
          "model_name": "LayoutModel",
          "model_module_version": "1.2.0",
          "state": {
            "_model_module": "@jupyter-widgets/base",
            "_model_module_version": "1.2.0",
            "_model_name": "LayoutModel",
            "_view_count": null,
            "_view_module": "@jupyter-widgets/base",
            "_view_module_version": "1.2.0",
            "_view_name": "LayoutView",
            "align_content": null,
            "align_items": null,
            "align_self": null,
            "border": null,
            "bottom": null,
            "display": null,
            "flex": null,
            "flex_flow": null,
            "grid_area": null,
            "grid_auto_columns": null,
            "grid_auto_flow": null,
            "grid_auto_rows": null,
            "grid_column": null,
            "grid_gap": null,
            "grid_row": null,
            "grid_template_areas": null,
            "grid_template_columns": null,
            "grid_template_rows": null,
            "height": null,
            "justify_content": null,
            "justify_items": null,
            "left": null,
            "margin": null,
            "max_height": null,
            "max_width": null,
            "min_height": null,
            "min_width": null,
            "object_fit": null,
            "object_position": null,
            "order": null,
            "overflow": null,
            "overflow_x": null,
            "overflow_y": null,
            "padding": null,
            "right": null,
            "top": null,
            "visibility": null,
            "width": null
          }
        },
        "0bda2547943b4c3a84a37d1c9fa0a273": {
          "model_module": "@jupyter-widgets/controls",
          "model_name": "SliderStyleModel",
          "model_module_version": "1.5.0",
          "state": {
            "_model_module": "@jupyter-widgets/controls",
            "_model_module_version": "1.5.0",
            "_model_name": "SliderStyleModel",
            "_view_count": null,
            "_view_module": "@jupyter-widgets/base",
            "_view_module_version": "1.2.0",
            "_view_name": "StyleView",
            "description_width": "",
            "handle_color": null
          }
        },
        "0945cfd3e7904979980d2f749f6364fa": {
          "model_module": "@jupyter-widgets/base",
          "model_name": "LayoutModel",
          "model_module_version": "1.2.0",
          "state": {
            "_model_module": "@jupyter-widgets/base",
            "_model_module_version": "1.2.0",
            "_model_name": "LayoutModel",
            "_view_count": null,
            "_view_module": "@jupyter-widgets/base",
            "_view_module_version": "1.2.0",
            "_view_name": "LayoutView",
            "align_content": null,
            "align_items": null,
            "align_self": null,
            "border": null,
            "bottom": null,
            "display": null,
            "flex": null,
            "flex_flow": null,
            "grid_area": null,
            "grid_auto_columns": null,
            "grid_auto_flow": null,
            "grid_auto_rows": null,
            "grid_column": null,
            "grid_gap": null,
            "grid_row": null,
            "grid_template_areas": null,
            "grid_template_columns": null,
            "grid_template_rows": null,
            "height": null,
            "justify_content": null,
            "justify_items": null,
            "left": null,
            "margin": null,
            "max_height": null,
            "max_width": null,
            "min_height": null,
            "min_width": null,
            "object_fit": null,
            "object_position": null,
            "order": null,
            "overflow": null,
            "overflow_x": null,
            "overflow_y": null,
            "padding": null,
            "right": null,
            "top": null,
            "visibility": null,
            "width": null
          }
        },
        "01ffb156c8cd4275b2bb901019103c76": {
          "model_module": "@jupyter-widgets/controls",
          "model_name": "VBoxModel",
          "model_module_version": "1.5.0",
          "state": {
            "_dom_classes": [
              "widget-interact"
            ],
            "_model_module": "@jupyter-widgets/controls",
            "_model_module_version": "1.5.0",
            "_model_name": "VBoxModel",
            "_view_count": null,
            "_view_module": "@jupyter-widgets/controls",
            "_view_module_version": "1.5.0",
            "_view_name": "VBoxView",
            "box_style": "",
            "children": [
              "IPY_MODEL_e1081eb806a44872aa94daddd19d72f2",
              "IPY_MODEL_3d4d75b4804a4d05b2371006f4598e5a",
              "IPY_MODEL_b9274892fab141b49622847c9b70db3c"
            ],
            "layout": "IPY_MODEL_f3e57ef7c4994d5689aa0befe68f21f8"
          }
        },
        "e1081eb806a44872aa94daddd19d72f2": {
          "model_module": "@jupyter-widgets/controls",
          "model_name": "FloatSliderModel",
          "model_module_version": "1.5.0",
          "state": {
            "_dom_classes": [],
            "_model_module": "@jupyter-widgets/controls",
            "_model_module_version": "1.5.0",
            "_model_name": "FloatSliderModel",
            "_view_count": null,
            "_view_module": "@jupyter-widgets/controls",
            "_view_module_version": "1.5.0",
            "_view_name": "FloatSliderView",
            "continuous_update": true,
            "description": "v",
            "description_tooltip": null,
            "disabled": false,
            "layout": "IPY_MODEL_a8bfb65c41f04bb9b5fe3b13ca8368b8",
            "max": 5,
            "min": 0,
            "orientation": "horizontal",
            "readout": true,
            "readout_format": ".2f",
            "step": 0.1,
            "style": "IPY_MODEL_ca94b9e3a75b45488e14cb093e5c4c98",
            "value": 2.5
          }
        },
        "3d4d75b4804a4d05b2371006f4598e5a": {
          "model_module": "@jupyter-widgets/controls",
          "model_name": "FloatSliderModel",
          "model_module_version": "1.5.0",
          "state": {
            "_dom_classes": [],
            "_model_module": "@jupyter-widgets/controls",
            "_model_module_version": "1.5.0",
            "_model_name": "FloatSliderModel",
            "_view_count": null,
            "_view_module": "@jupyter-widgets/controls",
            "_view_module_version": "1.5.0",
            "_view_name": "FloatSliderView",
            "continuous_update": true,
            "description": "w",
            "description_tooltip": null,
            "disabled": false,
            "layout": "IPY_MODEL_9f3a849149c2490a8a59103fd96c6ea8",
            "max": 5,
            "min": 0,
            "orientation": "horizontal",
            "readout": true,
            "readout_format": ".2f",
            "step": 0.1,
            "style": "IPY_MODEL_7abc068dd2114646a01a5bad146d4bde",
            "value": 3.7
          }
        },
        "b9274892fab141b49622847c9b70db3c": {
          "model_module": "@jupyter-widgets/output",
          "model_name": "OutputModel",
          "model_module_version": "1.0.0",
          "state": {
            "_dom_classes": [],
            "_model_module": "@jupyter-widgets/output",
            "_model_module_version": "1.0.0",
            "_model_name": "OutputModel",
            "_view_count": null,
            "_view_module": "@jupyter-widgets/output",
            "_view_module_version": "1.0.0",
            "_view_name": "OutputView",
            "layout": "IPY_MODEL_48d332a8e1bd4ed6bd97984a6a3819db",
            "msg_id": "",
            "outputs": [
              {
                "output_type": "display_data",
                "data": {
                  "text/plain": "<Figure size 432x288 with 1 Axes>",
                  "image/png": "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\n"
                },
                "metadata": {
                  "needs_background": "light"
                }
              }
            ]
          }
        },
        "f3e57ef7c4994d5689aa0befe68f21f8": {
          "model_module": "@jupyter-widgets/base",
          "model_name": "LayoutModel",
          "model_module_version": "1.2.0",
          "state": {
            "_model_module": "@jupyter-widgets/base",
            "_model_module_version": "1.2.0",
            "_model_name": "LayoutModel",
            "_view_count": null,
            "_view_module": "@jupyter-widgets/base",
            "_view_module_version": "1.2.0",
            "_view_name": "LayoutView",
            "align_content": null,
            "align_items": null,
            "align_self": null,
            "border": null,
            "bottom": null,
            "display": null,
            "flex": null,
            "flex_flow": null,
            "grid_area": null,
            "grid_auto_columns": null,
            "grid_auto_flow": null,
            "grid_auto_rows": null,
            "grid_column": null,
            "grid_gap": null,
            "grid_row": null,
            "grid_template_areas": null,
            "grid_template_columns": null,
            "grid_template_rows": null,
            "height": null,
            "justify_content": null,
            "justify_items": null,
            "left": null,
            "margin": null,
            "max_height": null,
            "max_width": null,
            "min_height": null,
            "min_width": null,
            "object_fit": null,
            "object_position": null,
            "order": null,
            "overflow": null,
            "overflow_x": null,
            "overflow_y": null,
            "padding": null,
            "right": null,
            "top": null,
            "visibility": null,
            "width": null
          }
        },
        "a8bfb65c41f04bb9b5fe3b13ca8368b8": {
          "model_module": "@jupyter-widgets/base",
          "model_name": "LayoutModel",
          "model_module_version": "1.2.0",
          "state": {
            "_model_module": "@jupyter-widgets/base",
            "_model_module_version": "1.2.0",
            "_model_name": "LayoutModel",
            "_view_count": null,
            "_view_module": "@jupyter-widgets/base",
            "_view_module_version": "1.2.0",
            "_view_name": "LayoutView",
            "align_content": null,
            "align_items": null,
            "align_self": null,
            "border": null,
            "bottom": null,
            "display": null,
            "flex": null,
            "flex_flow": null,
            "grid_area": null,
            "grid_auto_columns": null,
            "grid_auto_flow": null,
            "grid_auto_rows": null,
            "grid_column": null,
            "grid_gap": null,
            "grid_row": null,
            "grid_template_areas": null,
            "grid_template_columns": null,
            "grid_template_rows": null,
            "height": null,
            "justify_content": null,
            "justify_items": null,
            "left": null,
            "margin": null,
            "max_height": null,
            "max_width": null,
            "min_height": null,
            "min_width": null,
            "object_fit": null,
            "object_position": null,
            "order": null,
            "overflow": null,
            "overflow_x": null,
            "overflow_y": null,
            "padding": null,
            "right": null,
            "top": null,
            "visibility": null,
            "width": null
          }
        },
        "ca94b9e3a75b45488e14cb093e5c4c98": {
          "model_module": "@jupyter-widgets/controls",
          "model_name": "SliderStyleModel",
          "model_module_version": "1.5.0",
          "state": {
            "_model_module": "@jupyter-widgets/controls",
            "_model_module_version": "1.5.0",
            "_model_name": "SliderStyleModel",
            "_view_count": null,
            "_view_module": "@jupyter-widgets/base",
            "_view_module_version": "1.2.0",
            "_view_name": "StyleView",
            "description_width": "",
            "handle_color": null
          }
        },
        "9f3a849149c2490a8a59103fd96c6ea8": {
          "model_module": "@jupyter-widgets/base",
          "model_name": "LayoutModel",
          "model_module_version": "1.2.0",
          "state": {
            "_model_module": "@jupyter-widgets/base",
            "_model_module_version": "1.2.0",
            "_model_name": "LayoutModel",
            "_view_count": null,
            "_view_module": "@jupyter-widgets/base",
            "_view_module_version": "1.2.0",
            "_view_name": "LayoutView",
            "align_content": null,
            "align_items": null,
            "align_self": null,
            "border": null,
            "bottom": null,
            "display": null,
            "flex": null,
            "flex_flow": null,
            "grid_area": null,
            "grid_auto_columns": null,
            "grid_auto_flow": null,
            "grid_auto_rows": null,
            "grid_column": null,
            "grid_gap": null,
            "grid_row": null,
            "grid_template_areas": null,
            "grid_template_columns": null,
            "grid_template_rows": null,
            "height": null,
            "justify_content": null,
            "justify_items": null,
            "left": null,
            "margin": null,
            "max_height": null,
            "max_width": null,
            "min_height": null,
            "min_width": null,
            "object_fit": null,
            "object_position": null,
            "order": null,
            "overflow": null,
            "overflow_x": null,
            "overflow_y": null,
            "padding": null,
            "right": null,
            "top": null,
            "visibility": null,
            "width": null
          }
        },
        "7abc068dd2114646a01a5bad146d4bde": {
          "model_module": "@jupyter-widgets/controls",
          "model_name": "SliderStyleModel",
          "model_module_version": "1.5.0",
          "state": {
            "_model_module": "@jupyter-widgets/controls",
            "_model_module_version": "1.5.0",
            "_model_name": "SliderStyleModel",
            "_view_count": null,
            "_view_module": "@jupyter-widgets/base",
            "_view_module_version": "1.2.0",
            "_view_name": "StyleView",
            "description_width": "",
            "handle_color": null
          }
        },
        "48d332a8e1bd4ed6bd97984a6a3819db": {
          "model_module": "@jupyter-widgets/base",
          "model_name": "LayoutModel",
          "model_module_version": "1.2.0",
          "state": {
            "_model_module": "@jupyter-widgets/base",
            "_model_module_version": "1.2.0",
            "_model_name": "LayoutModel",
            "_view_count": null,
            "_view_module": "@jupyter-widgets/base",
            "_view_module_version": "1.2.0",
            "_view_name": "LayoutView",
            "align_content": null,
            "align_items": null,
            "align_self": null,
            "border": null,
            "bottom": null,
            "display": null,
            "flex": null,
            "flex_flow": null,
            "grid_area": null,
            "grid_auto_columns": null,
            "grid_auto_flow": null,
            "grid_auto_rows": null,
            "grid_column": null,
            "grid_gap": null,
            "grid_row": null,
            "grid_template_areas": null,
            "grid_template_columns": null,
            "grid_template_rows": null,
            "height": null,
            "justify_content": null,
            "justify_items": null,
            "left": null,
            "margin": null,
            "max_height": null,
            "max_width": null,
            "min_height": null,
            "min_width": null,
            "object_fit": null,
            "object_position": null,
            "order": null,
            "overflow": null,
            "overflow_x": null,
            "overflow_y": null,
            "padding": null,
            "right": null,
            "top": null,
            "visibility": null,
            "width": null
          }
        },
        "65f775c032a14754b6b587de107c3b7f": {
          "model_module": "@jupyter-widgets/controls",
          "model_name": "VBoxModel",
          "model_module_version": "1.5.0",
          "state": {
            "_dom_classes": [
              "widget-interact"
            ],
            "_model_module": "@jupyter-widgets/controls",
            "_model_module_version": "1.5.0",
            "_model_name": "VBoxModel",
            "_view_count": null,
            "_view_module": "@jupyter-widgets/controls",
            "_view_module_version": "1.5.0",
            "_view_name": "VBoxView",
            "box_style": "",
            "children": [
              "IPY_MODEL_9e01614feadf483ead2e6cd863959cf2",
              "IPY_MODEL_66a970d226f34326bd423b42593f5705",
              "IPY_MODEL_bdfed9a30e7b4d809338ecb28e7f66d9",
              "IPY_MODEL_4974753443154f60a13cf0169afc26a0"
            ],
            "layout": "IPY_MODEL_1286b641b12a4b91bf014e8ba0c1b872"
          }
        },
        "9e01614feadf483ead2e6cd863959cf2": {
          "model_module": "@jupyter-widgets/controls",
          "model_name": "FloatSliderModel",
          "model_module_version": "1.5.0",
          "state": {
            "_dom_classes": [],
            "_model_module": "@jupyter-widgets/controls",
            "_model_module_version": "1.5.0",
            "_model_name": "FloatSliderModel",
            "_view_count": null,
            "_view_module": "@jupyter-widgets/controls",
            "_view_module_version": "1.5.0",
            "_view_name": "FloatSliderView",
            "continuous_update": true,
            "description": "v",
            "description_tooltip": null,
            "disabled": false,
            "layout": "IPY_MODEL_607aa66145ba484db5dccc3d7940239a",
            "max": 0.9,
            "min": 0,
            "orientation": "horizontal",
            "readout": true,
            "readout_format": ".2f",
            "step": 0.01,
            "style": "IPY_MODEL_dee8f385a75b4c9dbe2a3bc50ca8387f",
            "value": 0.45
          }
        },
        "66a970d226f34326bd423b42593f5705": {
          "model_module": "@jupyter-widgets/controls",
          "model_name": "FloatSliderModel",
          "model_module_version": "1.5.0",
          "state": {
            "_dom_classes": [],
            "_model_module": "@jupyter-widgets/controls",
            "_model_module_version": "1.5.0",
            "_model_name": "FloatSliderModel",
            "_view_count": null,
            "_view_module": "@jupyter-widgets/controls",
            "_view_module_version": "1.5.0",
            "_view_name": "FloatSliderView",
            "continuous_update": true,
            "description": "w",
            "description_tooltip": null,
            "disabled": false,
            "layout": "IPY_MODEL_6d621333038f4416ac179fbb2ba2eb0b",
            "max": 0.9,
            "min": 0,
            "orientation": "horizontal",
            "readout": true,
            "readout_format": ".2f",
            "step": 0.01,
            "style": "IPY_MODEL_d64fd82b3a6d4512b9546a0d0622d4b4",
            "value": 0.45
          }
        },
        "bdfed9a30e7b4d809338ecb28e7f66d9": {
          "model_module": "@jupyter-widgets/controls",
          "model_name": "FloatSliderModel",
          "model_module_version": "1.5.0",
          "state": {
            "_dom_classes": [],
            "_model_module": "@jupyter-widgets/controls",
            "_model_module_version": "1.5.0",
            "_model_name": "FloatSliderModel",
            "_view_count": null,
            "_view_module": "@jupyter-widgets/controls",
            "_view_module_version": "1.5.0",
            "_view_name": "FloatSliderView",
            "continuous_update": true,
            "description": "energy",
            "description_tooltip": null,
            "disabled": false,
            "layout": "IPY_MODEL_1a8f185aaec94c449074e159ef98e226",
            "max": 1,
            "min": 0,
            "orientation": "horizontal",
            "readout": true,
            "readout_format": ".2f",
            "step": 0.1,
            "style": "IPY_MODEL_0da26e2bd2734c7a9e2e51600ffb0f45",
            "value": 0
          }
        },
        "4974753443154f60a13cf0169afc26a0": {
          "model_module": "@jupyter-widgets/output",
          "model_name": "OutputModel",
          "model_module_version": "1.0.0",
          "state": {
            "_dom_classes": [],
            "_model_module": "@jupyter-widgets/output",
            "_model_module_version": "1.0.0",
            "_model_name": "OutputModel",
            "_view_count": null,
            "_view_module": "@jupyter-widgets/output",
            "_view_module_version": "1.0.0",
            "_view_name": "OutputView",
            "layout": "IPY_MODEL_2e0bc3f1c85b439f96e5862a5a91ccac",
            "msg_id": "",
            "outputs": [
              {
                "output_type": "display_data",
                "data": {
                  "text/plain": "<Figure size 432x288 with 1 Axes>",
                  "image/png": "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\n"
                },
                "metadata": {
                  "needs_background": "light"
                }
              }
            ]
          }
        },
        "1286b641b12a4b91bf014e8ba0c1b872": {
          "model_module": "@jupyter-widgets/base",
          "model_name": "LayoutModel",
          "model_module_version": "1.2.0",
          "state": {
            "_model_module": "@jupyter-widgets/base",
            "_model_module_version": "1.2.0",
            "_model_name": "LayoutModel",
            "_view_count": null,
            "_view_module": "@jupyter-widgets/base",
            "_view_module_version": "1.2.0",
            "_view_name": "LayoutView",
            "align_content": null,
            "align_items": null,
            "align_self": null,
            "border": null,
            "bottom": null,
            "display": null,
            "flex": null,
            "flex_flow": null,
            "grid_area": null,
            "grid_auto_columns": null,
            "grid_auto_flow": null,
            "grid_auto_rows": null,
            "grid_column": null,
            "grid_gap": null,
            "grid_row": null,
            "grid_template_areas": null,
            "grid_template_columns": null,
            "grid_template_rows": null,
            "height": null,
            "justify_content": null,
            "justify_items": null,
            "left": null,
            "margin": null,
            "max_height": null,
            "max_width": null,
            "min_height": null,
            "min_width": null,
            "object_fit": null,
            "object_position": null,
            "order": null,
            "overflow": null,
            "overflow_x": null,
            "overflow_y": null,
            "padding": null,
            "right": null,
            "top": null,
            "visibility": null,
            "width": null
          }
        },
        "607aa66145ba484db5dccc3d7940239a": {
          "model_module": "@jupyter-widgets/base",
          "model_name": "LayoutModel",
          "model_module_version": "1.2.0",
          "state": {
            "_model_module": "@jupyter-widgets/base",
            "_model_module_version": "1.2.0",
            "_model_name": "LayoutModel",
            "_view_count": null,
            "_view_module": "@jupyter-widgets/base",
            "_view_module_version": "1.2.0",
            "_view_name": "LayoutView",
            "align_content": null,
            "align_items": null,
            "align_self": null,
            "border": null,
            "bottom": null,
            "display": null,
            "flex": null,
            "flex_flow": null,
            "grid_area": null,
            "grid_auto_columns": null,
            "grid_auto_flow": null,
            "grid_auto_rows": null,
            "grid_column": null,
            "grid_gap": null,
            "grid_row": null,
            "grid_template_areas": null,
            "grid_template_columns": null,
            "grid_template_rows": null,
            "height": null,
            "justify_content": null,
            "justify_items": null,
            "left": null,
            "margin": null,
            "max_height": null,
            "max_width": null,
            "min_height": null,
            "min_width": null,
            "object_fit": null,
            "object_position": null,
            "order": null,
            "overflow": null,
            "overflow_x": null,
            "overflow_y": null,
            "padding": null,
            "right": null,
            "top": null,
            "visibility": null,
            "width": null
          }
        },
        "dee8f385a75b4c9dbe2a3bc50ca8387f": {
          "model_module": "@jupyter-widgets/controls",
          "model_name": "SliderStyleModel",
          "model_module_version": "1.5.0",
          "state": {
            "_model_module": "@jupyter-widgets/controls",
            "_model_module_version": "1.5.0",
            "_model_name": "SliderStyleModel",
            "_view_count": null,
            "_view_module": "@jupyter-widgets/base",
            "_view_module_version": "1.2.0",
            "_view_name": "StyleView",
            "description_width": "",
            "handle_color": null
          }
        },
        "6d621333038f4416ac179fbb2ba2eb0b": {
          "model_module": "@jupyter-widgets/base",
          "model_name": "LayoutModel",
          "model_module_version": "1.2.0",
          "state": {
            "_model_module": "@jupyter-widgets/base",
            "_model_module_version": "1.2.0",
            "_model_name": "LayoutModel",
            "_view_count": null,
            "_view_module": "@jupyter-widgets/base",
            "_view_module_version": "1.2.0",
            "_view_name": "LayoutView",
            "align_content": null,
            "align_items": null,
            "align_self": null,
            "border": null,
            "bottom": null,
            "display": null,
            "flex": null,
            "flex_flow": null,
            "grid_area": null,
            "grid_auto_columns": null,
            "grid_auto_flow": null,
            "grid_auto_rows": null,
            "grid_column": null,
            "grid_gap": null,
            "grid_row": null,
            "grid_template_areas": null,
            "grid_template_columns": null,
            "grid_template_rows": null,
            "height": null,
            "justify_content": null,
            "justify_items": null,
            "left": null,
            "margin": null,
            "max_height": null,
            "max_width": null,
            "min_height": null,
            "min_width": null,
            "object_fit": null,
            "object_position": null,
            "order": null,
            "overflow": null,
            "overflow_x": null,
            "overflow_y": null,
            "padding": null,
            "right": null,
            "top": null,
            "visibility": null,
            "width": null
          }
        },
        "d64fd82b3a6d4512b9546a0d0622d4b4": {
          "model_module": "@jupyter-widgets/controls",
          "model_name": "SliderStyleModel",
          "model_module_version": "1.5.0",
          "state": {
            "_model_module": "@jupyter-widgets/controls",
            "_model_module_version": "1.5.0",
            "_model_name": "SliderStyleModel",
            "_view_count": null,
            "_view_module": "@jupyter-widgets/base",
            "_view_module_version": "1.2.0",
            "_view_name": "StyleView",
            "description_width": "",
            "handle_color": null
          }
        },
        "1a8f185aaec94c449074e159ef98e226": {
          "model_module": "@jupyter-widgets/base",
          "model_name": "LayoutModel",
          "model_module_version": "1.2.0",
          "state": {
            "_model_module": "@jupyter-widgets/base",
            "_model_module_version": "1.2.0",
            "_model_name": "LayoutModel",
            "_view_count": null,
            "_view_module": "@jupyter-widgets/base",
            "_view_module_version": "1.2.0",
            "_view_name": "LayoutView",
            "align_content": null,
            "align_items": null,
            "align_self": null,
            "border": null,
            "bottom": null,
            "display": null,
            "flex": null,
            "flex_flow": null,
            "grid_area": null,
            "grid_auto_columns": null,
            "grid_auto_flow": null,
            "grid_auto_rows": null,
            "grid_column": null,
            "grid_gap": null,
            "grid_row": null,
            "grid_template_areas": null,
            "grid_template_columns": null,
            "grid_template_rows": null,
            "height": null,
            "justify_content": null,
            "justify_items": null,
            "left": null,
            "margin": null,
            "max_height": null,
            "max_width": null,
            "min_height": null,
            "min_width": null,
            "object_fit": null,
            "object_position": null,
            "order": null,
            "overflow": null,
            "overflow_x": null,
            "overflow_y": null,
            "padding": null,
            "right": null,
            "top": null,
            "visibility": null,
            "width": null
          }
        },
        "0da26e2bd2734c7a9e2e51600ffb0f45": {
          "model_module": "@jupyter-widgets/controls",
          "model_name": "SliderStyleModel",
          "model_module_version": "1.5.0",
          "state": {
            "_model_module": "@jupyter-widgets/controls",
            "_model_module_version": "1.5.0",
            "_model_name": "SliderStyleModel",
            "_view_count": null,
            "_view_module": "@jupyter-widgets/base",
            "_view_module_version": "1.2.0",
            "_view_name": "StyleView",
            "description_width": "",
            "handle_color": null
          }
        },
        "2e0bc3f1c85b439f96e5862a5a91ccac": {
          "model_module": "@jupyter-widgets/base",
          "model_name": "LayoutModel",
          "model_module_version": "1.2.0",
          "state": {
            "_model_module": "@jupyter-widgets/base",
            "_model_module_version": "1.2.0",
            "_model_name": "LayoutModel",
            "_view_count": null,
            "_view_module": "@jupyter-widgets/base",
            "_view_module_version": "1.2.0",
            "_view_name": "LayoutView",
            "align_content": null,
            "align_items": null,
            "align_self": null,
            "border": null,
            "bottom": null,
            "display": null,
            "flex": null,
            "flex_flow": null,
            "grid_area": null,
            "grid_auto_columns": null,
            "grid_auto_flow": null,
            "grid_auto_rows": null,
            "grid_column": null,
            "grid_gap": null,
            "grid_row": null,
            "grid_template_areas": null,
            "grid_template_columns": null,
            "grid_template_rows": null,
            "height": null,
            "justify_content": null,
            "justify_items": null,
            "left": null,
            "margin": null,
            "max_height": null,
            "max_width": null,
            "min_height": null,
            "min_width": null,
            "object_fit": null,
            "object_position": null,
            "order": null,
            "overflow": null,
            "overflow_x": null,
            "overflow_y": null,
            "padding": null,
            "right": null,
            "top": null,
            "visibility": null,
            "width": null
          }
        }
      }
    }
  },
  "nbformat": 4,
  "nbformat_minor": 5
}